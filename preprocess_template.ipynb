{
 "cells": [
  {
   "cell_type": "code",
   "execution_count": 1,
   "metadata": {
    "collapsed": false
   },
   "outputs": [],
   "source": [
    "%load_ext autoreload\n",
    "%autoreload 2\n",
    "%matplotlib notebook"
   ]
  },
  {
   "cell_type": "code",
   "execution_count": 2,
   "metadata": {
    "collapsed": true
   },
   "outputs": [],
   "source": [
    "import matplotlib.pyplot as plt \n",
    "import pickle\n",
    "import numpy as np\n",
    "from pygments.token import Comment, String, Whitespace, Text"
   ]
  },
  {
   "cell_type": "code",
   "execution_count": 19,
   "metadata": {
    "collapsed": false
   },
   "outputs": [],
   "source": [
    "from commitgen.data import RawDataset, extract_commits, parse_commits\n",
    "from commitgen.diff import AddRemExtractor, PerFileExtractor, is_nl\n",
    "from commitgen.code import CodeChunkTokenizer, CodeLinesTokenizer\n",
    "from commitgen.nlp import SennaTokenizer, TreebankTokenizer"
   ]
  },
  {
   "cell_type": "code",
   "execution_count": 4,
   "metadata": {
    "collapsed": true
   },
   "outputs": [],
   "source": [
    "language = \"python\""
   ]
  },
  {
   "cell_type": "code",
   "execution_count": 5,
   "metadata": {
    "collapsed": true
   },
   "outputs": [],
   "source": [
    "marker = \"NEW_FILE\""
   ]
  },
  {
   "cell_type": "code",
   "execution_count": 6,
   "metadata": {
    "collapsed": true
   },
   "outputs": [],
   "source": [
    "code_chunk_tokenizer = CodeChunkTokenizer(language=language)\n",
    "code_lines_tokenizer = CodeLinesTokenizer(language=language)"
   ]
  },
  {
   "cell_type": "code",
   "execution_count": 7,
   "metadata": {
    "collapsed": true
   },
   "outputs": [],
   "source": [
    "add_rem_code_extractor = AddRemExtractor(marker=marker)\n",
    "per_file_code_extractor = PerFileExtractor(marker=marker)"
   ]
  },
  {
   "cell_type": "code",
   "execution_count": 8,
   "metadata": {
    "collapsed": true
   },
   "outputs": [],
   "source": [
    "senna_tokenizer = SennaTokenizer()\n",
    "treebank_tokenizer = TreebankTokenizer()"
   ]
  },
  {
   "cell_type": "code",
   "execution_count": 9,
   "metadata": {
    "collapsed": false
   },
   "outputs": [],
   "source": [
    "raw_dataset = RawDataset(\"/home/ubuntu/data/Theano_commits/\")"
   ]
  },
  {
   "cell_type": "code",
   "execution_count": 10,
   "metadata": {
    "collapsed": true
   },
   "outputs": [],
   "source": [
    "# for atomic only\n",
    "extract_filters = [lambda c: len(c.diff_file.modified_files) + \n",
    "                             len(c.diff_file.added_files) +\n",
    "                             len(c.diff_file.removed_files) == 1]"
   ]
  },
  {
   "cell_type": "code",
   "execution_count": 11,
   "metadata": {
    "collapsed": true
   },
   "outputs": [],
   "source": [
    "def is_atomic(parsed_commit):\n",
    "    return parsed_commit.code_tokens.count(\"NEW_FILE\") <= 1    "
   ]
  },
  {
   "cell_type": "code",
   "execution_count": 12,
   "metadata": {
    "collapsed": false
   },
   "outputs": [],
   "source": [
    "def get_len_filter(max_code_len, max_nl_len):\n",
    "    return lambda pc: 1 <= len(pc.code_tokens) <= max_code_len \\\n",
    "                      and 1 <= len(pc.nl_tokens) <= max_nl_len"
   ]
  },
  {
   "cell_type": "code",
   "execution_count": 13,
   "metadata": {
    "collapsed": false
   },
   "outputs": [],
   "source": [
    "ignore_list = [Comment, String, Whitespace, Text]"
   ]
  },
  {
   "cell_type": "code",
   "execution_count": 14,
   "metadata": {
    "collapsed": false,
    "scrolled": true
   },
   "outputs": [],
   "source": [
    "commits = extract_commits(raw_dataset,\n",
    "                          per_file_code_extractor,\n",
    "                          filters=extract_filters)"
   ]
  },
  {
   "cell_type": "code",
   "execution_count": null,
   "metadata": {
    "collapsed": false,
    "scrolled": true
   },
   "outputs": [],
   "source": [
    "parsed_commits = parse_commits(commits, treebank_tokenizer,\n",
    "                               code_lines_tokenizer,\n",
    "                               ignore_types=ignore_list,\n",
    "                               marker=marker)\n",
    "print len(parsed_commits)"
   ]
  },
  {
   "cell_type": "code",
   "execution_count": null,
   "metadata": {
    "collapsed": true
   },
   "outputs": [],
   "source": [
    "# to load already parsed commits from pickle\n",
    "# with open(\"/home/ubuntu/data/preprocessing/Theano.pickle\", \"r\") as f:\n",
    "#     parsed_commits = pickle.load(f)"
   ]
  },
  {
   "cell_type": "code",
   "execution_count": null,
   "metadata": {
    "collapsed": false
   },
   "outputs": [],
   "source": [
    "print \"% atomic = \" + str(100.0*len(filter(is_atomic, parsed_commits))/len(parsed_commits))"
   ]
  },
  {
   "cell_type": "code",
   "execution_count": null,
   "metadata": {
    "collapsed": false
   },
   "outputs": [],
   "source": [
    "true_max_code_len = np.max([len(pc.code_tokens) for pc in parsed_commits])\n",
    "true_max_nl_len = np.max([len(pc.nl_tokens) for pc in parsed_commits])\n",
    "print \"Max code len\", true_max_code_len\n",
    "print \"Max nl len\", true_max_nl_len"
   ]
  },
  {
   "cell_type": "code",
   "execution_count": null,
   "metadata": {
    "collapsed": true
   },
   "outputs": [],
   "source": [
    "def get_code_mean(parsed_commits):\n",
    "    return np.mean([len(pc.code_tokens) for pc in parsed_commits])\n",
    "\n",
    "def get_nl_mean(parsed_commits):\n",
    "    return np.mean([len(pc.nl_tokens) for pc in parsed_commits])"
   ]
  },
  {
   "cell_type": "code",
   "execution_count": null,
   "metadata": {
    "collapsed": false,
    "scrolled": true
   },
   "outputs": [],
   "source": [
    "lens = []\n",
    "\n",
    "counts = []\n",
    "counts_atomic = []\n",
    "counts_non_atomic = []\n",
    "\n",
    "avg_nl = []\n",
    "avg_code = []\n",
    "\n",
    "avg_nl_atomic = []\n",
    "avg_code_atomic = []\n",
    "\n",
    "avg_nl_non_atomic = []\n",
    "avg_code_non_atomic = []\n",
    "\n",
    "for code_len in range(100, 1500, 10):\n",
    "    for nl_len in [100]:\n",
    "        lens.append(code_len)\n",
    "        len_filter = get_len_filter(code_len, nl_len)\n",
    "        \n",
    "        filtered_parsed_commits = filter(len_filter, parsed_commits)\n",
    "        atomic_filtered = filter(is_atomic, filtered_parsed_commits)\n",
    "        non_atomic_filtered = filter(lambda c: not is_atomic(c), filtered_parsed_commits)\n",
    "        \n",
    "        counts.append(len(filtered_parsed_commits))\n",
    "        counts_atomic.append(len(atomic_filtered))\n",
    "        counts_non_atomic.append(len(non_atomic_filtered))\n",
    "            \n",
    "        avg_nl.append(get_nl_mean(filtered_parsed_commits))\n",
    "        avg_code.append(get_code_mean(filtered_parsed_commits))\n",
    "        \n",
    "        avg_nl_atomic.append(get_nl_mean(atomic_filtered))\n",
    "        avg_code_atomic.append(get_code_mean(atomic_filtered))\n",
    "        \n",
    "\n",
    "        avg_nl_non_atomic.append(get_nl_mean(non_atomic_filtered))\n",
    "        avg_code_non_atomic.append(get_code_mean(non_atomic_filtered))"
   ]
  },
  {
   "cell_type": "code",
   "execution_count": null,
   "metadata": {
    "collapsed": false,
    "scrolled": false
   },
   "outputs": [],
   "source": [
    "plt.plot(lens, avg_code, label=\"All\")\n",
    "plt.plot(lens, avg_code_atomic, label=\"Atomic\")\n",
    "plt.plot(lens, avg_code_non_atomic, label=\"Non-atomic\")\n",
    "plt.xlabel(\"Max Code length\") \n",
    "plt.ylabel(\"Avg. Code Length\")\n",
    "plt.legend(loc=\"best\")"
   ]
  },
  {
   "cell_type": "code",
   "execution_count": null,
   "metadata": {
    "collapsed": false
   },
   "outputs": [],
   "source": [
    "plt.plot(lens, avg_nl)\n",
    "plt.plot(lens, avg_nl_atomic)\n",
    "plt.plot(lens, avg_nl_non_atomic)"
   ]
  },
  {
   "cell_type": "code",
   "execution_count": null,
   "metadata": {
    "collapsed": false
   },
   "outputs": [],
   "source": [
    "from collections import Counter\n",
    "words = Counter()\n",
    "code_tokens = Counter()\n",
    "for parsed_commit in parsed_commits:\n",
    "    words.update(parsed_commit.nl_tokens)\n",
    "    code_tokens.update(parsed_commit.code_tokens)"
   ]
  },
  {
   "cell_type": "code",
   "execution_count": null,
   "metadata": {
    "collapsed": false,
    "scrolled": true
   },
   "outputs": [],
   "source": [
    "words"
   ]
  },
  {
   "cell_type": "code",
   "execution_count": null,
   "metadata": {
    "collapsed": false,
    "scrolled": true
   },
   "outputs": [],
   "source": [
    "code_tokens"
   ]
  }
 ],
 "metadata": {
  "kernelspec": {
   "display_name": "Python 2",
   "language": "python",
   "name": "python2"
  },
  "language_info": {
   "codemirror_mode": {
    "name": "ipython",
    "version": 2
   },
   "file_extension": ".py",
   "mimetype": "text/x-python",
   "name": "python",
   "nbconvert_exporter": "python",
   "pygments_lexer": "ipython2",
   "version": "2.7.6"
  }
 },
 "nbformat": 4,
 "nbformat_minor": 0
}
